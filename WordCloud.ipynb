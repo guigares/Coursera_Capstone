{
 "cells": [
  {
   "cell_type": "markdown",
   "metadata": {},
   "source": [
    "# <span style=\"display:table;margin-left: auto;margin-right: auto; font-family:Rockwell; font-size:2em; color:green\">Whatsapp </span><span style=\"display:table;margin-left: auto;margin-right: auto;font-family:Rockwell; font-size:2em;text-align: center\"> Word Cloud</span>"
   ]
  },
  {
   "cell_type": "markdown",
   "metadata": {},
   "source": [
    "This script creates a word cloud based on a Whatsapp chat txt file.\n",
    "\n"
   ]
  },
  {
   "cell_type": "markdown",
   "metadata": {},
   "source": [
    "1) Install wordcloud and stop-words:"
   ]
  },
  {
   "cell_type": "code",
   "execution_count": null,
   "metadata": {},
   "outputs": [],
   "source": [
    "!conda install -c conda-forge wordcloud --yes\n",
    "!pip install stop-words\n",
    "\n",
    "# import package and its set of stopwords\n",
    "from wordcloud import WordCloud"
   ]
  },
  {
   "cell_type": "markdown",
   "metadata": {},
   "source": [
    "2) Read the text file:"
   ]
  },
  {
   "cell_type": "code",
   "execution_count": null,
   "metadata": {},
   "outputs": [],
   "source": [
    "chat_text = open('OhtiaWorbu.txt', encoding=\"utf8\").read()"
   ]
  },
  {
   "cell_type": "markdown",
   "metadata": {},
   "source": [
    "3) Import a stop words list in your desired language:"
   ]
  },
  {
   "cell_type": "code",
   "execution_count": null,
   "metadata": {},
   "outputs": [],
   "source": [
    "from stop_words import get_stop_words\n",
    "\n",
    "stop_words = get_stop_words('spanish')"
   ]
  },
  {
   "cell_type": "markdown",
   "metadata": {},
   "source": [
    "4) Extend the stops words list with your own words when necessary:"
   ]
  },
  {
   "cell_type": "code",
   "execution_count": null,
   "metadata": {},
   "outputs": [],
   "source": [
    "additionalstopwords = [\"Guille\", \"Jesús\", \"ETSII\",\"Multimedia\",\"Omitido\",\n",
    "                       \"Almu\",\"Dena\",\"Diego\",\"Solaso\",\"Oskimate\",\"si\",\"Ana\",\"ma\",\"www\",\"http\",\"com\"]\n",
    "\n",
    "stop_words.extend(additionalstopwords)"
   ]
  },
  {
   "cell_type": "markdown",
   "metadata": {},
   "source": [
    "5) Generate a word cloud object:"
   ]
  },
  {
   "cell_type": "code",
   "execution_count": null,
   "metadata": {},
   "outputs": [],
   "source": [
    "OhtiaWorbu = WordCloud(\n",
    "    background_color='white',\n",
    "    max_words=10000000,\n",
    "    min_font_size=10,\n",
    "    stopwords=stop_words,\n",
    "    width=1600,\n",
    "    height=800\n",
    ")\n",
    "\n",
    "OhtiaWorbu.generate(chat_text)"
   ]
  },
  {
   "cell_type": "markdown",
   "metadata": {},
   "source": [
    "6) Display and save the word cloud:"
   ]
  },
  {
   "cell_type": "code",
   "execution_count": null,
   "metadata": {},
   "outputs": [],
   "source": [
    "import matplotlib.pyplot as plt\n",
    "fig=plt.figure( figsize=(20,10) )\n",
    "plt.imshow(OhtiaWorbu, interpolation='bilinear')\n",
    "plt.axis('off')\n",
    "plt.tight_layout(pad=1)\n",
    "plt.savefig('OhtiaWorbu')\n",
    "plt.show()"
   ]
  },
  {
   "cell_type": "markdown",
   "metadata": {},
   "source": [
    "  This is what the final result should look like:"
   ]
  },
  {
   "cell_type": "markdown",
   "metadata": {},
   "source": [
    "![](Ohtiaworbu.png)"
   ]
  }
 ],
 "metadata": {
  "kernelspec": {
   "display_name": "Python 3",
   "language": "python",
   "name": "python3"
  },
  "language_info": {
   "codemirror_mode": {
    "name": "ipython",
    "version": 3
   },
   "file_extension": ".py",
   "mimetype": "text/x-python",
   "name": "python",
   "nbconvert_exporter": "python",
   "pygments_lexer": "ipython3",
   "version": "3.8.3"
  }
 },
 "nbformat": 4,
 "nbformat_minor": 4
}
